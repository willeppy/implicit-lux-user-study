{
 "cells": [
  {
   "cell_type": "markdown",
   "id": "classical-assets",
   "metadata": {},
   "source": [
    "# User Study Notebook \n",
    "-----------\n",
    "# EDA\n",
    "\n",
    "For this activity, you will be asked to explore a dataset using pandas. While you are exploring the dataset, a library called __solas__ will be activated that will suggest visualizations to you. __Solas__ tracks which functions you execute and suggests visualizations that plot the data from these functions. To see visualization recommendations simply execute the name of the pandas dataframe or series you would like to visualize and __solas__ will replace the default output with visualizations. __Solas__ learns from your analysis history so as you execute more pandas functions, __solas__ will be able to recommend more visualizations.\n",
    "\n",
    "\n",
    "Our goal is to have you explore the dataset how you normally would in python using __pandas__, and see how well __solas__ is able to recommend useful reccomendations."
   ]
  },
  {
   "cell_type": "markdown",
   "id": "multiple-coach",
   "metadata": {},
   "source": [
    "## Introduction\n",
    "For this activity we will be using a dataset about movies sales over different years with some info about the different movies. \n",
    "\n",
    "Imagine you are a machine learning engineer, and try to predict how the movie performs in terms of the worldwide gross from other attributes available in the dataset. To try to replicate a real-world analysis task, this dataset has not been thoroughly cleaned.\n",
    "\n",
    "We will set some exploratory questions during the whole process to guide you to understand more about the movies dataset. Please feel free to answer them in either figures or texts. \n"
   ]
  },
  {
   "cell_type": "code",
   "execution_count": 17,
   "id": "hidden-guess",
   "metadata": {
    "ExecuteTime": {
     "end_time": "2021-07-15T13:35:01.383506Z",
     "start_time": "2021-07-15T13:35:01.367288Z"
    }
   },
   "outputs": [
    {
     "data": {
      "text/plain": [
       "True"
      ]
     },
     "execution_count": 17,
     "metadata": {},
     "output_type": "execute_result"
    }
   ],
   "source": [
    "import solas\n",
    "import pandas as pd\n",
    "from vega_datasets import data\n",
    "\n",
    "# solas config\n",
    "solas.config.default_display = \"solas\"\n",
    "# solas.logger = True\n",
    "\n",
    "# data load and setup\n",
    "# df = pd.read_csv(\"../data/movies.csv\")\n",
    "df = data.movies()\n",
    "df['Release_Date'] = pd.to_datetime(df['Release_Date'], infer_datetime_format=True)\n",
    "df['Title'] = df['Title'].astype(str)\n",
    "\n",
    "df.history.clear()"
   ]
  },
  {
   "cell_type": "code",
   "execution_count": 18,
   "id": "976a0b03-c690-49f4-be75-75f71738b782",
   "metadata": {},
   "outputs": [
    {
     "name": "stdout",
     "output_type": "stream",
     "text": [
      "(3201, 16)\n"
     ]
    }
   ],
   "source": [
    "print(df.shape)"
   ]
  },
  {
   "cell_type": "markdown",
   "id": "782da279-75d7-469a-b06e-6bb8e56edd54",
   "metadata": {},
   "source": [
    "## Dataset overview\n",
    "\n",
    "Lets understand the summary statistics of our data to begin"
   ]
  },
  {
   "cell_type": "code",
   "execution_count": 19,
   "id": "b49daedf-0903-426c-a422-31bf1ef626f9",
   "metadata": {},
   "outputs": [
    {
     "data": {
      "application/vnd.jupyter.widget-view+json": {
       "model_id": "f20942076ddf47d5b6ed87716657c06a",
       "version_major": 2,
       "version_minor": 0
      },
      "text/plain": [
       "Button(description='Toggle Pandas/Solas', layout=Layout(top='5px', width='150px'), style=ButtonStyle())"
      ]
     },
     "metadata": {},
     "output_type": "display_data"
    },
    {
     "data": {
      "application/vnd.jupyter.widget-view+json": {
       "model_id": "d364432a1d544a38963c870730afc444",
       "version_major": 2,
       "version_minor": 0
      },
      "text/plain": [
       "Output()"
      ]
     },
     "metadata": {},
     "output_type": "display_data"
    }
   ],
   "source": [
    "df.describe()"
   ]
  },
  {
   "cell_type": "markdown",
   "id": "cfa2c270-3dd0-420b-83f6-6eb4e0cd73e9",
   "metadata": {},
   "source": [
    "#### Are there any null values in the `Worldwide_Gross` column? Try to clean them before proceeding"
   ]
  },
  {
   "cell_type": "code",
   "execution_count": 20,
   "id": "22c890a5-18bc-45d7-8147-e02933f5c148",
   "metadata": {},
   "outputs": [
    {
     "data": {
      "application/vnd.jupyter.widget-view+json": {
       "model_id": "dfd6bc5f48f44ec7924c0bb14d3dc0ea",
       "version_major": 2,
       "version_minor": 0
      },
      "text/plain": [
       "Button(description='Toggle Pandas/Solas', layout=Layout(top='5px', width='150px'), style=ButtonStyle())"
      ]
     },
     "metadata": {},
     "output_type": "display_data"
    },
    {
     "data": {
      "application/vnd.jupyter.widget-view+json": {
       "model_id": "89bd3e46796f4a359d6fa8b82dca4cfd",
       "version_major": 2,
       "version_minor": 0
      },
      "text/plain": [
       "Output()"
      ]
     },
     "metadata": {},
     "output_type": "display_data"
    }
   ],
   "source": [
    "df.isna()"
   ]
  },
  {
   "cell_type": "code",
   "execution_count": 21,
   "id": "617667ae-05d0-44cb-8cd5-09fa714945f1",
   "metadata": {},
   "outputs": [
    {
     "data": {
      "application/vnd.jupyter.widget-view+json": {
       "model_id": "6884a7b470d940c6a9322e7bf5fd24fb",
       "version_major": 2,
       "version_minor": 0
      },
      "text/plain": [
       "Button(description='Toggle Pandas/Solas', layout=Layout(top='5px', width='150px'), style=ButtonStyle())"
      ]
     },
     "metadata": {},
     "output_type": "display_data"
    },
    {
     "data": {
      "application/vnd.jupyter.widget-view+json": {
       "model_id": "a8eeaf33272048988553d2eac9bb8a54",
       "version_major": 2,
       "version_minor": 0
      },
      "text/plain": [
       "Output()"
      ]
     },
     "metadata": {},
     "output_type": "display_data"
    }
   ],
   "source": [
    "df = df[~df.Worldwide_Gross.isna()]\n",
    "df"
   ]
  },
  {
   "cell_type": "code",
   "execution_count": 22,
   "id": "3cc583d0-76db-4212-9eaf-e03436910f35",
   "metadata": {},
   "outputs": [],
   "source": [
    "# df.dropna() "
   ]
  },
  {
   "cell_type": "markdown",
   "id": "39c2e179-1b7c-4c1a-bb43-ee85cb7ac7de",
   "metadata": {},
   "source": [
    "#### What is the distribution of the `Worldwide_Gross`? "
   ]
  },
  {
   "cell_type": "code",
   "execution_count": 23,
   "id": "dd88b619-35ea-4cd1-b5d0-f48626740ee9",
   "metadata": {},
   "outputs": [
    {
     "data": {
      "application/vnd.jupyter.widget-view+json": {
       "model_id": "305a800eec8245a085b39af17170f629",
       "version_major": 2,
       "version_minor": 0
      },
      "text/plain": [
       "Button(description='Toggle Pandas/Solas', layout=Layout(top='5px', width='150px'), style=ButtonStyle())"
      ]
     },
     "metadata": {},
     "output_type": "display_data"
    },
    {
     "data": {
      "application/vnd.jupyter.widget-view+json": {
       "model_id": "1a20e17641f2429e93d8b22fd113663c",
       "version_major": 2,
       "version_minor": 0
      },
      "text/plain": [
       "Output()"
      ]
     },
     "metadata": {},
     "output_type": "display_data"
    }
   ],
   "source": [
    "df.Worldwide_Gross"
   ]
  },
  {
   "cell_type": "markdown",
   "id": "secondary-liquid",
   "metadata": {},
   "source": [
    "### Explore How `MPAA_Rating` predicts `Worldwide_Gross`\n",
    "\n",
    "Lets see how well MPAA_Rating interacts with Worldwide Gross"
   ]
  },
  {
   "cell_type": "markdown",
   "id": "8d7de7e9-9a76-4f66-9e68-78fc91b50697",
   "metadata": {},
   "source": [
    "#### How many different `MPAA_Ratings` are there? What does the distribution look like?\n"
   ]
  },
  {
   "cell_type": "code",
   "execution_count": 24,
   "id": "headed-serbia",
   "metadata": {
    "ExecuteTime": {
     "end_time": "2021-07-15T08:23:31.767269Z",
     "start_time": "2021-07-15T08:23:31.618981Z"
    }
   },
   "outputs": [
    {
     "data": {
      "application/vnd.jupyter.widget-view+json": {
       "model_id": "cdc2ccba3def4e3985806ef4abfca542",
       "version_major": 2,
       "version_minor": 0
      },
      "text/plain": [
       "Button(description='Toggle Pandas/Solas', layout=Layout(top='5px', width='150px'), style=ButtonStyle())"
      ]
     },
     "metadata": {},
     "output_type": "display_data"
    },
    {
     "data": {
      "application/vnd.jupyter.widget-view+json": {
       "model_id": "66d9a1b0b41e4837bf23f0eb8748c59b",
       "version_major": 2,
       "version_minor": 0
      },
      "text/plain": [
       "Output()"
      ]
     },
     "metadata": {},
     "output_type": "display_data"
    }
   ],
   "source": [
    "df[\"MPAA_Rating\"].value_counts()"
   ]
  },
  {
   "cell_type": "markdown",
   "id": "8c084c12-19f7-47be-9345-9a948e654bda",
   "metadata": {},
   "source": [
    "#### How does the mean of `Worldwide_Gross` differ across different `MPAA_Rating`?"
   ]
  },
  {
   "cell_type": "code",
   "execution_count": 25,
   "id": "d849228a-29ed-41fe-8bab-489cebe3cfa2",
   "metadata": {},
   "outputs": [
    {
     "data": {
      "application/vnd.jupyter.widget-view+json": {
       "model_id": "b89057b335834e6091f61bd08674b666",
       "version_major": 2,
       "version_minor": 0
      },
      "text/plain": [
       "Button(description='Toggle Pandas/Solas', layout=Layout(top='5px', width='150px'), style=ButtonStyle())"
      ]
     },
     "metadata": {},
     "output_type": "display_data"
    },
    {
     "data": {
      "application/vnd.jupyter.widget-view+json": {
       "model_id": "b8b7f63ee7754b9ebd44cdd7e1363f61",
       "version_major": 2,
       "version_minor": 0
      },
      "text/plain": [
       "Output()"
      ]
     },
     "metadata": {},
     "output_type": "display_data"
    }
   ],
   "source": [
    "df[\"MPAA_Rating\"]"
   ]
  },
  {
   "cell_type": "code",
   "execution_count": 26,
   "id": "ae697cc3-4625-4b06-b691-c2e0e23acc66",
   "metadata": {},
   "outputs": [
    {
     "data": {
      "application/vnd.jupyter.widget-view+json": {
       "model_id": "c5f6a472acb846f1876a782615eef31b",
       "version_major": 2,
       "version_minor": 0
      },
      "text/plain": [
       "Button(description='Toggle Pandas/Solas', layout=Layout(top='5px', width='150px'), style=ButtonStyle())"
      ]
     },
     "metadata": {},
     "output_type": "display_data"
    },
    {
     "data": {
      "application/vnd.jupyter.widget-view+json": {
       "model_id": "3b999da3e3cf49fbb3738bd065da074b",
       "version_major": 2,
       "version_minor": 0
      },
      "text/plain": [
       "Output()"
      ]
     },
     "metadata": {},
     "output_type": "display_data"
    }
   ],
   "source": [
    "df.groupby(\"MPAA_Rating\").agg({\"Worldwide_Gross\": \"mean\"})"
   ]
  },
  {
   "cell_type": "markdown",
   "id": "crucial-classification",
   "metadata": {},
   "source": [
    "### Feature selection: Decide between `IMDB_Rating` and `Rotten_Tomatoes_Rating`\n",
    "\n",
    "At first glance, `IMDB_Rating` and `Rotten_Tomatoes_Rating` are similar featurs so we may only need to choose one of them as our predictor variable. Which one is the better predictor? Let's explore.\n",
    "\n",
    "+ The general distribution of the features\n",
    "+ The number of non-null datapoints available\n",
    "+ The correlation (the predictability) between each feature and the predicted variable"
   ]
  },
  {
   "cell_type": "code",
   "execution_count": 27,
   "id": "e6c7c666-2b7e-4721-a361-fc697e5e0da9",
   "metadata": {},
   "outputs": [
    {
     "data": {
      "application/vnd.jupyter.widget-view+json": {
       "model_id": "16ed31fb7ffa4b65ae6b0908fb869b7b",
       "version_major": 2,
       "version_minor": 0
      },
      "text/plain": [
       "Button(description='Toggle Pandas/Solas', layout=Layout(top='5px', width='150px'), style=ButtonStyle())"
      ]
     },
     "metadata": {},
     "output_type": "display_data"
    },
    {
     "data": {
      "application/vnd.jupyter.widget-view+json": {
       "model_id": "94f2f8989d7549c5bbeb0b948820c313",
       "version_major": 2,
       "version_minor": 0
      },
      "text/plain": [
       "Output()"
      ]
     },
     "metadata": {},
     "output_type": "display_data"
    }
   ],
   "source": [
    "df[[\"IMDB_Rating\", \"Rotten_Tomatoes_Rating\"]]"
   ]
  },
  {
   "cell_type": "code",
   "execution_count": 28,
   "id": "5f2524d3-933b-445f-bc56-52ad0b835872",
   "metadata": {},
   "outputs": [
    {
     "data": {
      "application/vnd.jupyter.widget-view+json": {
       "model_id": "8d2397f9a7634139a8ebba71b10b7fbd",
       "version_major": 2,
       "version_minor": 0
      },
      "text/plain": [
       "Button(description='Toggle Pandas/Solas', layout=Layout(top='5px', width='150px'), style=ButtonStyle())"
      ]
     },
     "metadata": {},
     "output_type": "display_data"
    },
    {
     "data": {
      "application/vnd.jupyter.widget-view+json": {
       "model_id": "93e8609112e5481dad1a6e862c155fa9",
       "version_major": 2,
       "version_minor": 0
      },
      "text/plain": [
       "Output()"
      ]
     },
     "metadata": {},
     "output_type": "display_data"
    }
   ],
   "source": [
    "df[[\"IMDB_Rating\", \"Rotten_Tomatoes_Rating\", \"Worldwide_Gross\"]]"
   ]
  },
  {
   "cell_type": "code",
   "execution_count": 29,
   "id": "similar-kidney",
   "metadata": {
    "ExecuteTime": {
     "end_time": "2021-07-15T08:51:29.903211Z",
     "start_time": "2021-07-15T08:51:25.734724Z"
    }
   },
   "outputs": [
    {
     "data": {
      "application/vnd.jupyter.widget-view+json": {
       "model_id": "0138c355cf0743a2b729ef4942f71b70",
       "version_major": 2,
       "version_minor": 0
      },
      "text/plain": [
       "Button(description='Toggle Pandas/Solas', layout=Layout(top='5px', width='150px'), style=ButtonStyle())"
      ]
     },
     "metadata": {},
     "output_type": "display_data"
    },
    {
     "data": {
      "application/vnd.jupyter.widget-view+json": {
       "model_id": "1f880de34ee14d95a4e580b475af6a75",
       "version_major": 2,
       "version_minor": 0
      },
      "text/plain": [
       "Output()"
      ]
     },
     "metadata": {},
     "output_type": "display_data"
    }
   ],
   "source": [
    "df[pd.notna(df[\"IMDB_Rating\"])]"
   ]
  },
  {
   "cell_type": "code",
   "execution_count": 30,
   "id": "rising-velvet",
   "metadata": {
    "ExecuteTime": {
     "end_time": "2021-07-15T08:24:00.564492Z",
     "start_time": "2021-07-15T08:23:57.269039Z"
    }
   },
   "outputs": [
    {
     "data": {
      "application/vnd.jupyter.widget-view+json": {
       "model_id": "0d32e4b4f5bd4bed89d4378fbc0cf09b",
       "version_major": 2,
       "version_minor": 0
      },
      "text/plain": [
       "Button(description='Toggle Pandas/Solas', layout=Layout(top='5px', width='150px'), style=ButtonStyle())"
      ]
     },
     "metadata": {},
     "output_type": "display_data"
    },
    {
     "data": {
      "application/vnd.jupyter.widget-view+json": {
       "model_id": "d8264cc1425043d8a451703cad05e70b",
       "version_major": 2,
       "version_minor": 0
      },
      "text/plain": [
       "Output()"
      ]
     },
     "metadata": {},
     "output_type": "display_data"
    }
   ],
   "source": [
    "df[pd.notna(df[\"Rotten_Tomatoes_Rating\"])]"
   ]
  },
  {
   "cell_type": "code",
   "execution_count": 31,
   "id": "atmospheric-willow",
   "metadata": {
    "ExecuteTime": {
     "end_time": "2021-07-15T08:21:47.865999Z",
     "start_time": "2021-07-15T08:21:47.858275Z"
    }
   },
   "outputs": [],
   "source": [
    "#df.corr()"
   ]
  },
  {
   "cell_type": "markdown",
   "id": "dimensional-davis",
   "metadata": {},
   "source": [
    "### Explore possible reasons for  the higher variance of the `Worldwide_Gross`\n"
   ]
  },
  {
   "cell_type": "code",
   "execution_count": 32,
   "id": "stunning-living",
   "metadata": {
    "ExecuteTime": {
     "end_time": "2021-07-15T08:01:31.313931Z",
     "start_time": "2021-07-15T08:01:28.986525Z"
    }
   },
   "outputs": [
    {
     "data": {
      "application/vnd.jupyter.widget-view+json": {
       "model_id": "e05baff1a4374d258afd372b7b4279b5",
       "version_major": 2,
       "version_minor": 0
      },
      "text/plain": [
       "Button(description='Toggle Pandas/Solas', layout=Layout(top='5px', width='150px'), style=ButtonStyle())"
      ]
     },
     "metadata": {},
     "output_type": "display_data"
    },
    {
     "data": {
      "application/vnd.jupyter.widget-view+json": {
       "model_id": "4322569b936549f0890838edb420b14c",
       "version_major": 2,
       "version_minor": 0
      },
      "text/plain": [
       "Output()"
      ]
     },
     "metadata": {},
     "output_type": "display_data"
    }
   ],
   "source": [
    "df[(df[\"IMDB_Rating\"] > 6) & (df[\"IMDB_Rating\"] < 8)]"
   ]
  },
  {
   "cell_type": "code",
   "execution_count": null,
   "id": "1ff434ea-4cc3-4ef2-a09e-90348ec11d09",
   "metadata": {},
   "outputs": [],
   "source": []
  }
 ],
 "metadata": {
  "history": [],
  "kernelspec": {
   "display_name": "Python 3",
   "language": "python",
   "name": "python3"
  },
  "language_info": {
   "codemirror_mode": {
    "name": "ipython",
    "version": 3
   },
   "file_extension": ".py",
   "mimetype": "text/x-python",
   "name": "python",
   "nbconvert_exporter": "python",
   "pygments_lexer": "ipython3",
   "version": "3.9.1"
  },
  "varInspector": {
   "cols": {
    "lenName": 16,
    "lenType": 16,
    "lenVar": 40
   },
   "kernels_config": {
    "python": {
     "delete_cmd_postfix": "",
     "delete_cmd_prefix": "del ",
     "library": "var_list.py",
     "varRefreshCmd": "print(var_dic_list())"
    },
    "r": {
     "delete_cmd_postfix": ") ",
     "delete_cmd_prefix": "rm(",
     "library": "var_list.r",
     "varRefreshCmd": "cat(var_dic_list()) "
    }
   },
   "types_to_exclude": [
    "module",
    "function",
    "builtin_function_or_method",
    "instance",
    "_Feature"
   ],
   "window_display": false
  }
 },
 "nbformat": 4,
 "nbformat_minor": 5
}
