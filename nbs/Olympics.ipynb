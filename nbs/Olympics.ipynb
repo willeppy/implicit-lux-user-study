{
 "cells": [
  {
   "cell_type": "markdown",
   "id": "d12c48ed-2101-4b9a-b560-ff1deafebe40",
   "metadata": {},
   "source": [
    "# Olympics - Solas\n",
    "\n",
    "from https://www.kaggle.com/heesoo37/120-years-of-olympic-history-athletes-and-results"
   ]
  },
  {
   "cell_type": "markdown",
   "id": "d289c74a-b204-4414-8a61-f6f0463594da",
   "metadata": {},
   "source": [
    "Tracked events\n",
    "\n",
    "- column ref\n",
    "- column assignment\n",
    "- vc\n",
    "- describe\n",
    "- gb\n",
    "- agg\n",
    "- filters, loc, query\n",
    "- null checks"
   ]
  },
  {
   "cell_type": "code",
   "execution_count": 1,
   "id": "97590f59-922e-4621-98b1-ef001640eb2f",
   "metadata": {},
   "outputs": [],
   "source": [
    "import pandas as pd\n",
    "import solas"
   ]
  },
  {
   "cell_type": "code",
   "execution_count": 2,
   "id": "79b9b593-3f4f-4fd0-ada4-e1a5d27e7b3c",
   "metadata": {},
   "outputs": [
    {
     "data": {
      "text/plain": [
       "True"
      ]
     },
     "execution_count": 2,
     "metadata": {},
     "output_type": "execute_result"
    }
   ],
   "source": [
    "df = pd.read_csv(\"../data/recent_olympics.csv\")\n",
    "df['Year'] = pd.to_datetime(df['Year'], format='%Y')\n",
    "df = df.drop(columns=[\"ID\"])\n",
    "df.history.clear()"
   ]
  },
  {
   "cell_type": "code",
   "execution_count": null,
   "id": "a8ef09f6-3d87-4f00-bfeb-40e3482282bd",
   "metadata": {},
   "outputs": [],
   "source": [
    "df.describe()"
   ]
  },
  {
   "cell_type": "code",
   "execution_count": null,
   "id": "9e7421c8-f1f1-4a9d-bb85-488665272266",
   "metadata": {},
   "outputs": [],
   "source": [
    "df[df.Sport == \"Athletics\"]"
   ]
  },
  {
   "cell_type": "code",
   "execution_count": null,
   "id": "ee7ff58f-8de6-4521-b99b-12eedbce9cff",
   "metadata": {},
   "outputs": [],
   "source": [
    "df.Medal.value_counts()"
   ]
  },
  {
   "cell_type": "code",
   "execution_count": null,
   "id": "f9903546-94c2-4815-9dc0-f195bc76b640",
   "metadata": {},
   "outputs": [],
   "source": [
    "df.groupby(\"NOC\").aggregate({\"Medal\": \"count\", \"Age\": \"mean\", \"Height\": 'max'})"
   ]
  },
  {
   "cell_type": "code",
   "execution_count": null,
   "id": "f9458011-1c4e-4137-a8af-5da6deb30beb",
   "metadata": {},
   "outputs": [],
   "source": [
    "df.isna()"
   ]
  },
  {
   "cell_type": "code",
   "execution_count": null,
   "id": "0c8de90c-07df-4fb6-8367-0dbb89eec716",
   "metadata": {},
   "outputs": [],
   "source": []
  },
  {
   "cell_type": "code",
   "execution_count": 3,
   "id": "11381b6e-ec69-47b7-895d-845b737cadf7",
   "metadata": {},
   "outputs": [
    {
     "data": {
      "application/vnd.jupyter.widget-view+json": {
       "model_id": "bbbddafd1aa64a11bcec37ef28b94e8c",
       "version_major": 2,
       "version_minor": 0
      },
      "text/plain": [
       "Button(description='Toggle Pandas/Solas', layout=Layout(top='5px', width='150px'), style=ButtonStyle())"
      ]
     },
     "metadata": {},
     "output_type": "display_data"
    },
    {
     "data": {
      "application/vnd.jupyter.widget-view+json": {
       "model_id": "0d2694327b2b4eae84e8edc947188f7d",
       "version_major": 2,
       "version_minor": 0
      },
      "text/plain": [
       "Output()"
      ]
     },
     "metadata": {},
     "output_type": "display_data"
    }
   ],
   "source": [
    "df[[\"Height\", \"Weight\", \"Medal\"]].isna()"
   ]
  },
  {
   "cell_type": "code",
   "execution_count": null,
   "id": "318fa715-3373-4093-b751-68e2e4cae80c",
   "metadata": {},
   "outputs": [],
   "source": []
  }
 ],
 "metadata": {
  "kernelspec": {
   "display_name": "Python 3",
   "language": "python",
   "name": "python3"
  },
  "language_info": {
   "codemirror_mode": {
    "name": "ipython",
    "version": 3
   },
   "file_extension": ".py",
   "mimetype": "text/x-python",
   "name": "python",
   "nbconvert_exporter": "python",
   "pygments_lexer": "ipython3",
   "version": "3.9.1"
  }
 },
 "nbformat": 4,
 "nbformat_minor": 5
}
