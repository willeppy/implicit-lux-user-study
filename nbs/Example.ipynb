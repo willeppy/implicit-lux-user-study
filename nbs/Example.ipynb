{
 "cells": [
  {
   "cell_type": "markdown",
   "id": "curious-stake",
   "metadata": {},
   "source": [
    "# Example Notebook \n",
    "\n",
    "This notebook explores the simple Cars dataset to demonstrate how *Solas* visualizes Pandas data during your analysis."
   ]
  },
  {
   "cell_type": "code",
   "execution_count": 7,
   "id": "innovative-spyware",
   "metadata": {},
   "outputs": [],
   "source": [
    "import solas\n",
    "import pandas as pd\n",
    "solas.config.default_display = \"solas\""
   ]
  },
  {
   "cell_type": "code",
   "execution_count": 8,
   "id": "secret-slovakia",
   "metadata": {},
   "outputs": [],
   "source": [
    "df = pd.read_csv(\"../data/cars.csv\")\n",
    "df[\"Year\"] = pd.to_datetime(df['Year'], format=\"%Y\")"
   ]
  },
  {
   "cell_type": "code",
   "execution_count": 9,
   "id": "cheap-evening",
   "metadata": {},
   "outputs": [
    {
     "data": {
      "text/plain": [
       "pandas.core.frame.DataFrame"
      ]
     },
     "execution_count": 9,
     "metadata": {},
     "output_type": "execute_result"
    }
   ],
   "source": [
    "type(df)"
   ]
  },
  {
   "cell_type": "markdown",
   "id": "noted-degree",
   "metadata": {},
   "source": [
    "Please take a couple of minutes to familiarize yourself with this dataset. You will be asked some specific analysis questions later on but for now take some time to explore the features of the dataset, clean it or reformat it however you like, and become generally comfortable with what is in the data. "
   ]
  },
  {
   "cell_type": "code",
   "execution_count": 10,
   "id": "sunset-memory",
   "metadata": {},
   "outputs": [
    {
     "data": {
      "application/vnd.jupyter.widget-view+json": {
       "model_id": "94f5cf4f28f74952b25d11283138c3b4",
       "version_major": 2,
       "version_minor": 0
      },
      "text/plain": [
       "Button(description='Toggle Pandas/Solas', layout=Layout(top='5px', width='150px'), style=ButtonStyle())"
      ]
     },
     "metadata": {},
     "output_type": "display_data"
    },
    {
     "data": {
      "application/vnd.jupyter.widget-view+json": {
       "model_id": "2daf45f2223841f9ae43f745747dfd1f",
       "version_major": 2,
       "version_minor": 0
      },
      "text/plain": [
       "Output()"
      ]
     },
     "metadata": {},
     "output_type": "display_data"
    }
   ],
   "source": [
    "df.Origin.value_counts()"
   ]
  },
  {
   "cell_type": "code",
   "execution_count": null,
   "id": "loved-synthesis",
   "metadata": {},
   "outputs": [],
   "source": [
    "df.describe()"
   ]
  },
  {
   "cell_type": "code",
   "execution_count": null,
   "id": "gothic-button",
   "metadata": {},
   "outputs": [],
   "source": [
    "df.groupby(\"Cylinders\").mean()"
   ]
  },
  {
   "cell_type": "code",
   "execution_count": null,
   "id": "frank-expert",
   "metadata": {},
   "outputs": [],
   "source": [
    "df"
   ]
  }
 ],
 "metadata": {
  "history": [
   {
    "code": "import lux\nlux.logger = True\nimport pandas as pd\nlux.config.default_display = \"lux\"",
    "id": "b103eabc0657409d87a83faa6a5d5b2f",
    "order_count": 1,
    "time": "2021-04-09T16:43:48.516Z",
    "type": "executeCodeCell"
   },
   {
    "code": "For this activity we will be using a dataset about movies sales over different years with some info about the different movies. To try to replicate a real-world analysis task, this dataset has not been thoroughly cleaned.",
    "id": "5dea651807614a099bf1da63f566e808",
    "order_count": 2,
    "time": "2021-04-09T16:43:48.524Z",
    "type": "selectMarkdownCell"
   },
   {
    "code": "import lux\nlux.logger = True\nimport pandas as pd\nlux.config.default_display = \"lux\"",
    "id": "b103eabc0657409d87a83faa6a5d5b2f",
    "isPrintLuxDf": false,
    "isPrintPandasDf": false,
    "isPrintVis": false,
    "isPrintVisCollection": false,
    "order_count": 1,
    "time": "2021-04-09T16:43:49.156Z",
    "type": "completeCodeCell"
   },
   {
    "time": "2021-04-09T16:44:32.376Z",
    "type": "pageClose"
   }
  ],
  "kernelspec": {
   "display_name": "Python 3",
   "language": "python",
   "name": "python3"
  },
  "language_info": {
   "codemirror_mode": {
    "name": "ipython",
    "version": 3
   },
   "file_extension": ".py",
   "mimetype": "text/x-python",
   "name": "python",
   "nbconvert_exporter": "python",
   "pygments_lexer": "ipython3",
   "version": "3.9.1"
  }
 },
 "nbformat": 4,
 "nbformat_minor": 5
}
