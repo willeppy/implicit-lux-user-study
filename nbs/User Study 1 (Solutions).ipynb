{
 "cells": [
  {
   "cell_type": "markdown",
   "id": "tutorial-nepal",
   "metadata": {},
   "source": [
    "# User Study Notebook \n",
    "-----------\n",
    "# Part 1: EDA\n",
    "\n",
    "For this activity, you will be asked to explore a dataset using pandas. While you are exploring the dataset, a library called __lux__ will be activated that will suggest visualizations to you. The goal of this library is to track which functions you are using and suggest visualizations that plot the data from these functions. To see visualization recommendations simply execute the name of the pandas dataframe or series you would like to visualize and __lux__ will replace the default output with visualizations.\n",
    "\n",
    "Our goal is to have you explore the dataset how you normally would in python using __pandas__, and see how well __lux__ is able to recommend useful reccomendations.\n",
    "\n",
    "As you execute more pandas functions __lux__ will be able to reccomend more visualizations.\n"
   ]
  },
  {
   "cell_type": "code",
   "execution_count": null,
   "id": "central-happening",
   "metadata": {},
   "outputs": [],
   "source": [
    "import lux\n",
    "# lux.logger = False\n",
    "from vega_datasets import data\n",
    "import pandas as pd\n",
    "\n",
    "# lux.config.default_display = \"lux\""
   ]
  },
  {
   "cell_type": "markdown",
   "id": "interpreted-psychiatry",
   "metadata": {},
   "source": [
    "For this activity we will be using a dataset about movies sales over different years with some info about the different movies. To try to replicate a real-world analysis task, this dataset has not been thoroughly cleaned."
   ]
  },
  {
   "cell_type": "code",
   "execution_count": null,
   "id": "compact-dryer",
   "metadata": {},
   "outputs": [],
   "source": [
    "df = pd.read_csv(\"../data/movies.csv\")\n",
    "df['Release_Date'] = pd.to_datetime(df['Release_Date'], infer_datetime_format=True)"
   ]
  },
  {
   "cell_type": "code",
   "execution_count": null,
   "id": "functional-series",
   "metadata": {},
   "outputs": [],
   "source": [
    "df.to_csv(\"../data/movies.csv\", index=False)"
   ]
  },
  {
   "cell_type": "markdown",
   "id": "immune-trash",
   "metadata": {},
   "source": [
    "Since we modified the `Release_Date` column above, you can see that it is included in our recomendations below."
   ]
  },
  {
   "cell_type": "code",
   "execution_count": null,
   "id": "adjacent-interval",
   "metadata": {},
   "outputs": [],
   "source": [
    "df"
   ]
  },
  {
   "cell_type": "code",
   "execution_count": null,
   "id": "tired-memorabilia",
   "metadata": {},
   "outputs": [],
   "source": [
    "df"
   ]
  },
  {
   "cell_type": "markdown",
   "id": "killing-affiliation",
   "metadata": {},
   "source": [
    "Please take a couple of minutes to familiarize yourself with this dataset. You will be asked some specific analysis questions later on but for now take some time to explore the features of the dataset, clean it or reformat it however you like, and become generally comfortable with what is in the data. "
   ]
  },
  {
   "cell_type": "code",
   "execution_count": null,
   "id": "fewer-major",
   "metadata": {},
   "outputs": [],
   "source": [
    "df.describe()"
   ]
  },
  {
   "cell_type": "code",
   "execution_count": null,
   "id": "premium-climb",
   "metadata": {},
   "outputs": [],
   "source": [
    "# code to fill or get rid of nas, etc\n",
    "# some value counts maybe"
   ]
  },
  {
   "cell_type": "code",
   "execution_count": null,
   "id": "compatible-process",
   "metadata": {},
   "outputs": [],
   "source": []
  },
  {
   "cell_type": "code",
   "execution_count": null,
   "id": "clear-tobago",
   "metadata": {},
   "outputs": [],
   "source": []
  },
  {
   "cell_type": "code",
   "execution_count": null,
   "id": "unlike-wound",
   "metadata": {},
   "outputs": [],
   "source": []
  },
  {
   "cell_type": "markdown",
   "id": "dominant-anthropology",
   "metadata": {},
   "source": [
    "-----------\n",
    "# Part 2: Specific Tasks\n",
    "\n",
    "Great! Hopefully you feel comfortable with the general features of this dataset. You will now be asked a couple of specific questions about the data (that you may or may not have explored during your EDA). "
   ]
  },
  {
   "cell_type": "markdown",
   "id": "chinese-blackjack",
   "metadata": {},
   "source": [
    "### 2.1\n",
    "How many different `MPAA_Rating`s are there? What does the distribution look like?"
   ]
  },
  {
   "cell_type": "code",
   "execution_count": null,
   "id": "processed-annual",
   "metadata": {},
   "outputs": [],
   "source": [
    "df.MPAA_Rating.value_counts()"
   ]
  },
  {
   "cell_type": "markdown",
   "id": "norman-soundtrack",
   "metadata": {},
   "source": [
    "### 2.2\n",
    "What about Worldwide gross distribution?"
   ]
  },
  {
   "cell_type": "code",
   "execution_count": null,
   "id": "liked-conference",
   "metadata": {},
   "outputs": [],
   "source": [
    "df.Worldwide_Gross"
   ]
  },
  {
   "cell_type": "markdown",
   "id": "concerned-surgery",
   "metadata": {},
   "source": [
    "### 2.3\n",
    "What is the average Worldwide and US gross for different `MPAA_Rating` rated movies?"
   ]
  },
  {
   "cell_type": "code",
   "execution_count": null,
   "id": "circular-insert",
   "metadata": {},
   "outputs": [],
   "source": [
    "df.groupby(\"MPAA_Rating\").agg({\"US_Gross\": \"mean\", \"Worldwide_Gross\": \"mean\"})"
   ]
  },
  {
   "cell_type": "markdown",
   "id": "unauthorized-throw",
   "metadata": {},
   "source": [
    "### 2.4\n",
    "Which does the distribution of median worldwide gross look like across genres? Which have the highest and lowest median worldwide gross?"
   ]
  },
  {
   "cell_type": "code",
   "execution_count": null,
   "id": "general-utilization",
   "metadata": {},
   "outputs": [],
   "source": [
    "df.groupby(\"Major_Genre\").median()"
   ]
  },
  {
   "cell_type": "markdown",
   "id": "grateful-paper",
   "metadata": {},
   "source": [
    "### 2.5\n",
    "How do highly rated IMDB movies (>5) compare to non-highly rated (in general, answer however you please)"
   ]
  },
  {
   "cell_type": "code",
   "execution_count": null,
   "id": "assigned-spouse",
   "metadata": {},
   "outputs": [],
   "source": [
    "df[df.IMDB_Rating > 5]"
   ]
  },
  {
   "cell_type": "markdown",
   "id": "statewide-meditation",
   "metadata": {},
   "source": [
    "### 2.6\n",
    "How do highly rated `IMDB` and `Rotten tomatoes` ratings influence the other metrics?"
   ]
  },
  {
   "cell_type": "code",
   "execution_count": null,
   "id": "challenging-athens",
   "metadata": {},
   "outputs": [],
   "source": [
    "df[(df.IMDB_Rating > df.IMDB_Rating.mean()) & (df.Rotten_Tomatoes_Rating > df.Rotten_Tomatoes_Rating.mean())]"
   ]
  },
  {
   "cell_type": "code",
   "execution_count": null,
   "id": "solved-anthony",
   "metadata": {},
   "outputs": [],
   "source": []
  },
  {
   "cell_type": "code",
   "execution_count": null,
   "id": "qualified-uncle",
   "metadata": {},
   "outputs": [],
   "source": []
  },
  {
   "cell_type": "code",
   "execution_count": null,
   "id": "following-spoke",
   "metadata": {},
   "outputs": [],
   "source": []
  },
  {
   "cell_type": "code",
   "execution_count": null,
   "id": "color-milan",
   "metadata": {},
   "outputs": [],
   "source": []
  },
  {
   "cell_type": "code",
   "execution_count": null,
   "id": "empty-muslim",
   "metadata": {},
   "outputs": [],
   "source": []
  },
  {
   "cell_type": "code",
   "execution_count": null,
   "id": "angry-flour",
   "metadata": {},
   "outputs": [],
   "source": []
  },
  {
   "cell_type": "code",
   "execution_count": null,
   "id": "spatial-ballet",
   "metadata": {},
   "outputs": [],
   "source": []
  },
  {
   "cell_type": "code",
   "execution_count": null,
   "id": "natural-management",
   "metadata": {},
   "outputs": [],
   "source": []
  },
  {
   "cell_type": "code",
   "execution_count": null,
   "id": "monthly-stewart",
   "metadata": {},
   "outputs": [],
   "source": []
  },
  {
   "cell_type": "markdown",
   "id": "dangerous-memorabilia",
   "metadata": {},
   "source": [
    "------------\n",
    "# Part 3: Encoding feedback (optional)\n",
    "\n",
    "Please run the following cells and give feedback on how approiate the reccomended visual encoding is for that function."
   ]
  },
  {
   "cell_type": "code",
   "execution_count": null,
   "id": "further-strategy",
   "metadata": {},
   "outputs": [],
   "source": [
    "df = data.movies()\n",
    "df['Release_Date'] = pd.to_datetime(df['Release_Date'], infer_datetime_format=True)\n",
    "df.history.clear()"
   ]
  },
  {
   "cell_type": "code",
   "execution_count": null,
   "id": "prescription-overall",
   "metadata": {},
   "outputs": [],
   "source": [
    "df"
   ]
  },
  {
   "cell_type": "markdown",
   "id": "finished-raise",
   "metadata": {},
   "source": [
    "### 3.1: Describe()"
   ]
  },
  {
   "cell_type": "code",
   "execution_count": null,
   "id": "signal-blowing",
   "metadata": {},
   "outputs": [],
   "source": [
    "df.describe()"
   ]
  },
  {
   "cell_type": "markdown",
   "id": "statewide-wheat",
   "metadata": {},
   "source": [
    "### 3.2: Value_Counts()"
   ]
  },
  {
   "cell_type": "code",
   "execution_count": null,
   "id": "variable-airplane",
   "metadata": {},
   "outputs": [],
   "source": [
    "df.Distributor.value_counts()"
   ]
  },
  {
   "cell_type": "code",
   "execution_count": null,
   "id": "significant-maryland",
   "metadata": {},
   "outputs": [],
   "source": [
    "df.MPAA_Rating.value_counts()"
   ]
  },
  {
   "cell_type": "markdown",
   "id": "facial-neighbor",
   "metadata": {},
   "source": [
    "### 3.3: Filter"
   ]
  },
  {
   "cell_type": "code",
   "execution_count": null,
   "id": "twelve-frequency",
   "metadata": {},
   "outputs": [],
   "source": [
    "df[df.MPAA_Rating == \"R\"]"
   ]
  },
  {
   "cell_type": "code",
   "execution_count": null,
   "id": "imposed-retailer",
   "metadata": {},
   "outputs": [],
   "source": [
    "df[(df.MPAA_Rating == \"R\") & (df.Worldwide_Gross > 85343400)]"
   ]
  },
  {
   "cell_type": "markdown",
   "id": "later-teens",
   "metadata": {},
   "source": [
    "### 3.4: df agg"
   ]
  },
  {
   "cell_type": "code",
   "execution_count": null,
   "id": "polyphonic-adams",
   "metadata": {},
   "outputs": [],
   "source": [
    "df.mean()"
   ]
  },
  {
   "cell_type": "code",
   "execution_count": null,
   "id": "pacific-ferry",
   "metadata": {},
   "outputs": [],
   "source": [
    "df.median()"
   ]
  },
  {
   "cell_type": "markdown",
   "id": "boxed-security",
   "metadata": {},
   "source": [
    "### 3.5: df groupby agg"
   ]
  },
  {
   "cell_type": "code",
   "execution_count": null,
   "id": "increasing-wellington",
   "metadata": {},
   "outputs": [],
   "source": [
    "df.groupby(\"MPAA_Rating\").mean(\"Worldwide_Gross\")"
   ]
  },
  {
   "cell_type": "code",
   "execution_count": null,
   "id": "fresh-magnet",
   "metadata": {},
   "outputs": [],
   "source": [
    "df.groupby(\"Distributor\").agg({\"Worldwide_Gross\": \"mean\", \"US_Gross\": \"mean\", \"Runtime_min\": \"median\"})"
   ]
  }
 ],
 "metadata": {
  "history": [],
  "kernelspec": {
   "display_name": "Python 3",
   "language": "python",
   "name": "python3"
  },
  "language_info": {
   "codemirror_mode": {
    "name": "ipython",
    "version": 3
   },
   "file_extension": ".py",
   "mimetype": "text/x-python",
   "name": "python",
   "nbconvert_exporter": "python",
   "pygments_lexer": "ipython3",
   "version": "3.9.1"
  }
 },
 "nbformat": 4,
 "nbformat_minor": 5
}
